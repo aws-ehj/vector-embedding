# this is test notebook
import requests from requests
